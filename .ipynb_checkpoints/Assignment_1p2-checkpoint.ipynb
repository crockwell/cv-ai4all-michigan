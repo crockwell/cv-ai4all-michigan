{
 "cells": [
  {
   "cell_type": "markdown",
   "metadata": {},
   "source": [
    "# Assignment 1.2: Sharpening and Edge Detection"
   ]
  },
  {
   "cell_type": "markdown",
   "metadata": {},
   "source": [
    "This assignment consists of two parts. First, we'll look at the flower image again, and try to sharpen it up. Then we'll read in a new image of a road to try out the Canny edge detection algorithm."
   ]
  },
  {
   "cell_type": "markdown",
   "metadata": {},
   "source": [
    "## Part 1."
   ]
  },
  {
   "cell_type": "markdown",
   "metadata": {},
   "source": [
    "1. Read in the image \"flower.png\"."
   ]
  },
  {
   "cell_type": "markdown",
   "metadata": {},
   "source": [
    "2. Blur the image. Now subtract the blurred image from the original, and display the difference. "
   ]
  },
  {
   "cell_type": "markdown",
   "metadata": {},
   "source": [
    "3. Add the difference back to the original image. Can you sharpen the image this way?"
   ]
  },
  {
   "cell_type": "markdown",
   "metadata": {},
   "source": [
    "4. Now try an OpenCV technique to directly sharpen the image. What parameters can you adjust to improve this effect? "
   ]
  },
  {
   "cell_type": "markdown",
   "metadata": {},
   "source": [
    "## Part 2."
   ]
  },
  {
   "cell_type": "markdown",
   "metadata": {},
   "source": [
    "1. Read in the image \"road_pic.jpeg\". "
   ]
  },
  {
   "cell_type": "markdown",
   "metadata": {},
   "source": [
    "2. We're going to try to perform lane detection on this image: that is, detect the white road lines. Convert the image to grayscale. "
   ]
  },
  {
   "cell_type": "markdown",
   "metadata": {},
   "source": [
    "3. Create a binary mask which identifies the white pixels in your grayscale image. This will help isolate the white road lines. Hint: since the road lines aren't perfectly white, try masking between intensity values of 200 and 255."
   ]
  },
  {
   "cell_type": "markdown",
   "metadata": {},
   "source": [
    "4. Display the binary mask."
   ]
  },
  {
   "cell_type": "markdown",
   "metadata": {},
   "source": [
    "5. Use one of the filters we discussed in the lecture to filter out some of the noise in the mask, and display the filtered mask. "
   ]
  },
  {
   "cell_type": "markdown",
   "metadata": {},
   "source": [
    "6. Apply OpenCV's implementation of the Canny edge detector to your filtered mask. What happens? Play with threshold values to see what changes. "
   ]
  },
  {
   "cell_type": "markdown",
   "metadata": {},
   "source": [
    "Later on, we'll learn how to take the output of the edge detector and extract the lines of interest, which tells us the driving path. One algorithm to do this is called the Hough transform. For now, check out this video of real-time lane detection using the same methods you just implemented (minus the Hough transform):\n",
    "\n",
    "https://www.youtube.com/watch?time_continue=8&v=lWhunNd0q3Q"
   ]
  },
  {
   "cell_type": "markdown",
   "metadata": {},
   "source": [
    "## Supplementary Exercises "
   ]
  },
  {
   "cell_type": "markdown",
   "metadata": {},
   "source": [
    "This section contains additional image-manipulation exercises which will be helpful to you down the road. "
   ]
  },
  {
   "cell_type": "markdown",
   "metadata": {},
   "source": [
    "1. **Rotating images**: check out the OpenCV function getRotationMatrix2D(). Choose a test image and rotate it 45 degrees. "
   ]
  },
  {
   "cell_type": "markdown",
   "metadata": {},
   "source": [
    "2. **Template matching**: this is a procedure which is closely related to 2D convolution. We have provided for you the images \"beatles.jpg\" and \"one_beatle.png\". The first is the original image and the second is a template image. Your objective is to use OpenCV tools to match that template to the original image. Check out the function matchTemplate() and the tutorial:\n",
    "\n",
    "https://docs.opencv.org/3.1.0/d4/dc6/tutorial_py_template_matching.html"
   ]
  },
  {
   "cell_type": "markdown",
   "metadata": {},
   "source": [
    "3. **Perspective**: read in the image \"sudoku.png\". For this part, we'll follow the tutorial given here:\n",
    "\n",
    "https://docs.opencv.org/3.1.0/da/d6e/tutorial_py_geometric_transformations.html\n",
    "\n",
    "Repeat their process to take the sudoku image and perform a perspective warp such that we only see the corrected Sudoku puzzle. "
   ]
  }
 ],
 "metadata": {
  "kernelspec": {
   "display_name": "Python 3",
   "language": "python",
   "name": "python3"
  },
  "language_info": {
   "codemirror_mode": {
    "name": "ipython",
    "version": 3
   },
   "file_extension": ".py",
   "mimetype": "text/x-python",
   "name": "python",
   "nbconvert_exporter": "python",
   "pygments_lexer": "ipython3",
   "version": "3.7.0"
  }
 },
 "nbformat": 4,
 "nbformat_minor": 2
}
