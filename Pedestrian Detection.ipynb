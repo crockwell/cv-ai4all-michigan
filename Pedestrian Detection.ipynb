{
 "cells": [
  {
   "cell_type": "markdown",
   "metadata": {},
   "source": [
    "                                            Self-Driving Car Research Project"
   ]
  },
  {
   "cell_type": "markdown",
   "metadata": {},
   "source": [
    "                                                   Data Preprocessing"
   ]
  },
  {
   "cell_type": "code",
   "execution_count": 1,
   "metadata": {},
   "outputs": [],
   "source": [
    "from __future__ import print_function\n",
    "from imutils.object_detection import non_max_suppression\n",
    "from imutils import paths\n",
    "import numpy as np\n",
    "import os\n",
    "import imutils\n",
    "import cv2"
   ]
  },
  {
   "cell_type": "code",
   "execution_count": 14,
   "metadata": {},
   "outputs": [],
   "source": [
    "dirs = os.listdir('Images')\n",
    "for i in range(0,len(dirs)):\n",
    "    dirs[i] = os.path.join('Images', dirs[i])\n",
    "paths = []\n",
    "for dir in dirs:\n",
    "    if os.path.isfile(dir):\n",
    "        paths.append(dir)\n",
    "        continue\n",
    "    files = os.listdir(dir)\n",
    "    for file in files:\n",
    "        paths.append(os.path.join(dir,file))"
   ]
  },
  {
   "cell_type": "code",
   "execution_count": 15,
   "metadata": {},
   "outputs": [],
   "source": [
    "\n",
    "# initialize the HOG descriptor/person detector\n",
    "hog = cv2.HOGDescriptor()\n",
    "hog.setSVMDetector(cv2.HOGDescriptor_getDefaultPeopleDetector())"
   ]
  },
  {
   "cell_type": "code",
   "execution_count": null,
   "metadata": {},
   "outputs": [
    {
     "name": "stdout",
     "output_type": "stream",
     "text": [
      "Images/lidar_car.jpg\n",
      "[[[ 36  34  40]\n",
      "  [ 27  25  31]\n",
      "  [ 17  13  24]\n",
      "  ...\n",
      "  [ 47  23  55]\n",
      "  [ 22   3  28]\n",
      "  [150 134 157]]\n",
      "\n",
      " [[ 12  11  21]\n",
      "  [  3   2  12]\n",
      "  [ 11   7  18]\n",
      "  ...\n",
      "  [ 41  17  47]\n",
      "  [ 20   1  26]\n",
      "  [151 135 158]]\n",
      "\n",
      " [[  8   7  23]\n",
      "  [  0   0  13]\n",
      "  [  8   6  18]\n",
      "  ...\n",
      "  [ 43  20  48]\n",
      "  [ 20   2  25]\n",
      "  [150 135 156]]\n",
      "\n",
      " ...\n",
      "\n",
      " [[ 33  23  23]\n",
      "  [ 18   8   8]\n",
      "  [ 22  12  12]\n",
      "  ...\n",
      "  [  5   4   6]\n",
      "  [  1   0   4]\n",
      "  [147 146 150]]\n",
      "\n",
      " [[ 28  20  21]\n",
      "  [ 13   5   6]\n",
      "  [ 17   9  10]\n",
      "  ...\n",
      "  [  3   2   6]\n",
      "  [  0   0   3]\n",
      "  [142 141 145]]\n",
      "\n",
      " [[ 41  32  35]\n",
      "  [ 27  18  21]\n",
      "  [ 30  21  24]\n",
      "  ...\n",
      "  [ 11  10  14]\n",
      "  [  4   3   7]\n",
      "  [146 145 149]]]\n",
      "[INFO] lidar_car.jpg: 0 original boxes, 0 after suppression\n"
     ]
    }
   ],
   "source": [
    "# loop over the image paths\n",
    "for imagePath in paths:\n",
    "    # load the image and resize it to (1) reduce detection time\n",
    "    # and (2) improve detection accuracy\n",
    "    print(imagePath)\n",
    "    image = cv2.imread(imagePath)\n",
    "    print(image)\n",
    "    image = imutils.resize(image, width=min(400, image.shape[1]))\n",
    "    orig = image.copy()\n",
    " \n",
    "    # detect people in the image\n",
    "    (rects, weights) = hog.detectMultiScale(image, winStride=(4, 4),\n",
    "        padding=(8, 8), scale=1.05)\n",
    " \n",
    "    # draw the original bounding boxes\n",
    "    for (x, y, w, h) in rects:\n",
    "        cv2.rectangle(orig, (x, y), (x + w, y + h), (0, 0, 255), 2)\n",
    " \n",
    "    # apply non-maxima suppression to the bounding boxes using a\n",
    "    # fairly large overlap threshold to try to maintain overlapping\n",
    "    # boxes that are still people\n",
    "    rects = np.array([[x, y, x + w, y + h] for (x, y, w, h) in rects])\n",
    "    pick = non_max_suppression(rects, probs=None, overlapThresh=0.65)\n",
    " \n",
    "    # draw the final bounding boxes\n",
    "    for (xA, yA, xB, yB) in pick:\n",
    "        cv2.rectangle(image, (xA, yA), (xB, yB), (0, 255, 0), 2)\n",
    " \n",
    "    # show some information on the number of bounding boxes\n",
    "    filename = imagePath[imagePath.rfind(\"/\") + 1:]\n",
    "    print(\"[INFO] {}: {} original boxes, {} after suppression\".format(\n",
    "        filename, len(rects), len(pick)))\n",
    " \n",
    "    # show the output images\n",
    "    cv2.imshow(\"Before NMS\", orig)\n",
    "    cv2.imshow(\"After NMS\", image)\n",
    "    # Press any key to go on to the next image\n",
    "    cv2.waitKey(0)"
   ]
  },
  {
   "cell_type": "code",
   "execution_count": null,
   "metadata": {},
   "outputs": [],
   "source": []
  }
 ],
 "metadata": {
  "kernelspec": {
   "display_name": "Python 3",
   "language": "python",
   "name": "python3"
  },
  "language_info": {
   "codemirror_mode": {
    "name": "ipython",
    "version": 3
   },
   "file_extension": ".py",
   "mimetype": "text/x-python",
   "name": "python",
   "nbconvert_exporter": "python",
   "pygments_lexer": "ipython3",
   "version": "3.7.0"
  }
 },
 "nbformat": 4,
 "nbformat_minor": 2
}
